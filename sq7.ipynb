{
 "cells": [
  {
   "cell_type": "code",
   "execution_count": null,
   "id": "5112e346",
   "metadata": {},
   "outputs": [],
   "source": [
    "1) Write an SQL query to show only odd rows from a table.\n",
    "\n",
    "cursor.execute(\" select * from Employees where id in (select id from Employees where id%2=1)\")\n",
    "\n",
    "2) Write an SQL query to clone a new table from another table.\n",
    "cursor.execute(\" select * into Newtable_name from oldtable_name where 1=0\") Onlythe column names will be inserted but not the row\n",
    "\n",
    "\n",
    "\n",
    "cursor.execute(\"select * into new_table from old_table\")"
   ]
  }
 ],
 "metadata": {
  "kernelspec": {
   "display_name": "Python 3 (ipykernel)",
   "language": "python",
   "name": "python3"
  },
  "language_info": {
   "codemirror_mode": {
    "name": "ipython",
    "version": 3
   },
   "file_extension": ".py",
   "mimetype": "text/x-python",
   "name": "python",
   "nbconvert_exporter": "python",
   "pygments_lexer": "ipython3",
   "version": "3.9.7"
  }
 },
 "nbformat": 4,
 "nbformat_minor": 5
}
